{
 "cells": [
  {
   "cell_type": "code",
   "execution_count": 23,
   "metadata": {
    "collapsed": false
   },
   "outputs": [],
   "source": [
    "import sys\n",
    "import pandas as pd\n",
    "import networkx as nx\n",
    "import matplotlib.pyplot as plt\n",
    "import operator\n",
    "import time\n",
    "from srm.db_manager import connect_to_db, execute_sql"
   ]
  },
  {
   "cell_type": "code",
   "execution_count": 13,
   "metadata": {
    "collapsed": false
   },
   "outputs": [],
   "source": [
    "def drawGraphs(edges):\n",
    "    G=nx.Graph()\n",
    "    #for key in edges:\n",
    "    #    print key\n",
    "    #   G.add_edge(key, 1)\n",
    "    G.add_node(\"a\")\n",
    "    G.add_edge(\"a\",'b',weight=0.6)\n",
    "    G.add_edge('a','c',weight=0.2)\n",
    "    G.add_edge('c','d',weight=0.1)\n",
    "    G.add_edge('c','e',weight=0.7)\n",
    "    G.add_edge('c','f',weight=0.9)\n",
    "    G.add_edge('a','d',weight=0.3)\n",
    "    \n",
    "    #G.add_node(\"a\")\n",
    "    #G.add_nodes_from([\"b\",\"c\"])\n",
    "\n",
    "    #G.add_edge(1,2)\n",
    "    #edge = (\"d\", \"e\")\n",
    "    \n",
    "    #G.add_edge(*edge)\n",
    "    #edge = (\"d\", \"e\")\n",
    "    #G.add_edge(*edge)\n",
    "\n",
    "    print(\"Nodes of graph: \")\n",
    "    print(G.nodes())\n",
    "    print(\"Edges of graph: \")\n",
    "    print(G.edges())\n",
    "\n",
    "    nx.draw(G)\n",
    "    plt.show()\n",
    "\n",
    "listHashTag = [\"Flipkart\", \"BigBillionDay\", \"CheckSnapdealToday\", \"flopkart\", \"flipkartsale\", \"snapdeal\", \"FekuFlops\", \\\n",
    "               \"kejrilies\", \"AMAZON\", \"Update\", \"YoBilawalSoDumb\", \"BorderBetrayal\", \"Fraudkart\", \"thebigbillionday\", \\\n",
    "              \"deals\", \"India\", \"bigbillionsale\", \"ecommerce\"]\n",
    "listHashTag_nepal = [\"#nepalearthquake\", \"#nepal\", \"#NepalQuake\", \"#earthquake\", \"#PrayforNepal\", \"#Kathmandu\",\\\n",
    "                    \"#NepalQuakeRelief\", \"#Earthquakeagain\", \"#India\", \"#Everest\", \\\n",
    "                    \"#IndiaWithNepal\", \"#NepalDisasterReliefByMSG\", \"#Soulvultures\", \"#BREAKING\", \"#NepalQuakeAgain\"]\n",
    "listHashTag_Bigsale = [\"#BigAppShoppingDays\", \"#flipkart\", \"#Contest\", \"#MahindraAQ\", \"#Nexus6\", \\\n",
    "                       \"#Android\", \"#IEC2014\", \"#Win\", \"#KnowYourFlipkartApp\", \"#deals\", \"#HAHK\",\\\n",
    "                       \"#itimes\", \"#HolyCow\", \"#LiveYourMoment\", \"#Lingaa\"]"
   ]
  },
  {
   "cell_type": "code",
   "execution_count": 20,
   "metadata": {
    "collapsed": false
   },
   "outputs": [],
   "source": [
    "#Connect to DB\n",
    "#db_name, table = \"srm\", \"BigBillionDay\"\n",
    "db_name, table = \"srm\", \"BigAppShoppingDay\"\n",
    "cursor_mysql, conn = connect_to_db(\"10.5.23.213\", \"root\", \"root\")\n",
    "results = execute_sql(\"select * from srm.DisasterNepal order by created_at;\")"
   ]
  },
  {
   "cell_type": "code",
   "execution_count": 24,
   "metadata": {
    "collapsed": false
   },
   "outputs": [
    {
     "name": "stdout",
     "output_type": "stream",
     "text": [
      "[('#nepalearthquake', 1429923359), ('#nepal', 1429923359), ('#earthquake', 1429924004), ('#Kathmandu', 1429924693), ('#India', 1429925666), ('#PrayforNepal', 1429927169), ('#NepalQuake', 1429927349), ('#NepalQuakeRelief', 1429927652), ('#BREAKING', 1429927894), ('#IndiaWithNepal', 1429928510), ('#Everest', 1429929088), ('#Soulvultures', 1429948421), ('#Earthquakeagain', 1430013679), ('#NepalDisasterReliefByMSG', 1430781495), ('#NepalQuakeAgain', 1431397322)]\n"
     ]
    }
   ],
   "source": [
    "#Querying to DB\n",
    "\n",
    "hashtagTimeStamp = {}\n",
    "for row in results:\n",
    "    for key in listHashTag_nepal:\n",
    "        if key in row[1]:\n",
    "            if key not in hashtagTimeStamp.keys():\n",
    "                #print row[4]\n",
    "                hashtagTimeStamp[key] = int(time.mktime(row[4].timetuple()))\n",
    "sortedHashTag = sorted(hashtagTimeStamp.items(), key=operator.itemgetter(1))\n",
    "print sortedHashTag"
   ]
  },
  {
   "cell_type": "code",
   "execution_count": 25,
   "metadata": {
    "collapsed": false
   },
   "outputs": [],
   "source": [
    "edges = []\n",
    "for row in results:\n",
    "    listHashInLine = []\n",
    "    for (hashtag,time) in sortedHashTag:\n",
    "        if hashtag in row[1]:\n",
    "            listHashInLine.append(hashtag)\n",
    "    for i in range(1,len(listHashInLine)):\n",
    "        edges.append((listHashInLine[0], listHashInLine[i]))\n",
    "#print edges\n"
   ]
  },
  {
   "cell_type": "code",
   "execution_count": 26,
   "metadata": {
    "collapsed": false
   },
   "outputs": [
    {
     "name": "stdout",
     "output_type": "stream",
     "text": [
      "15\n"
     ]
    }
   ],
   "source": [
    "#drawGraphs(edges)\n",
    "# some math labels\n",
    "labels={}\n",
    "''' \n",
    "labels[0]=r'$BigAppShoppingDays$'\n",
    "labels[1]=r'$flipkart$'\n",
    "labels[2]=r'$Contest$'\n",
    "labels[3]=r'$MahindraAQ$'\n",
    "labels[4]=r'$Nexus6$'\n",
    "labels[5]=r'$Android$'\n",
    "labels[6]=r'$IEC2014$'\n",
    "labels[7]=r'$Win$'\n",
    "labels[8]=r'$KnowYourFlipkartApp$'\n",
    "labels[9]=r'$deals$'\n",
    "labels[10]=r'$HAHK$'\n",
    "labels[11]=r'$itimes$'\n",
    "labels[12]=r'$HolyCow$'\n",
    "labels[13]=r'$LiveYourMoment$'\n",
    "labels[14]=r'$Lingaa$' \n",
    "'''\n",
    "labels[0]=r'$nepalearthquake$'\n",
    "labels[1]=r'$nepal$'\n",
    "labels[2]=r'$earthquake$'\n",
    "labels[3]=r'$Kathmandu$'\n",
    "labels[4]=r'$india$'\n",
    "labels[5]=r'$PrayforNepal$'\n",
    "labels[6]=r'$NepalQuake$'\n",
    "labels[7]=r'$NepalQuakeRelief$'\n",
    "labels[8]=r'$BREAKING$'\n",
    "labels[9]=r'$IndiaWithNepal$'\n",
    "labels[10]=r'$Everest$'\n",
    "labels[11]=r'$Soulvultures$'\n",
    "labels[12]=r'$Earthquakeagain$'\n",
    "labels[13]=r'$NepalDisasterReliefByMSG$'\n",
    "labels[14]=r'$NepalQuakeAgain$' \n",
    "\n",
    "''' \n",
    "labels[0]=r'$Flipkart$'\n",
    "labels[1]=r'$BigBillionDay$'\n",
    "labels[2]=r'$CheckSnapdealToday$'\n",
    "labels[3]=r'$flopkart$'\n",
    "labels[4]=r'$flipkartsale$'\n",
    "labels[5]=r'$snapdeal$'\n",
    "labels[6]=r'$FekuFlops$'\n",
    "labels[7]=r'$kejrilies$'\n",
    "labels[8]=r'$AMAZON$'\n",
    "labels[9]=r'$Update$'\n",
    "labels[10]=r'$YoBilawalSoDumb$'\n",
    "labels[11]=r'$BorderBetrayal$'\n",
    "labels[12]=r'$Fraudkart$'\n",
    "labels[13]=r'$thebigbillionday$'\n",
    "labels[14]=r'$deals$'\n",
    "labels[15]=r'$India$'\n",
    "labels[16]=r'$bigbillionsale$'\n",
    "labels[17]=r'$ecommerce$' ''' \n",
    "\n",
    "\n",
    "nodeList=[0,1,2,3,4,5,6,7,8,9,10,11,12,13,14]\n",
    "\n",
    "#pos=nx.spectral_layout(G) # positions for all nodes\n",
    "edgeList = []\n",
    "for edge in edges:\n",
    "    u1 = listHashTag_nepal.index(edge[0])\n",
    "    u2 = listHashTag_nepal.index(edge[1])\n",
    "    if (u1,u2) not in edgeList: \n",
    "        edgeList.append((u1,u2))\n",
    "for node in nodeList:\n",
    "    edgeList.append((node,node))\n",
    "#print edgeList\n",
    "G=nx.DiGraph(edgeList)\n",
    "#pos=nx.random_layout(G)\n",
    "pos = nx.drawing.spring_layout(G)\n",
    "#G.add_nodes_from([0,1,2,3,4,5,6,7,8,9,10,11,12,13,14,15,16,17])\n",
    "#G.add_edges_from(edgeList)\n",
    "print len(pos)\n",
    "nx.draw_networkx_nodes(G,pos,\n",
    "                      nodelist=[0,1,2,3,4,5,6,7,8,9,10,11,12,13,14], node_color='g')\n",
    "nx.draw_networkx_edges(G,pos,\n",
    "                       edgelist=edgeList)\n",
    "\n",
    "#nodes\n",
    "'''  nx.draw_networkx_nodes(G,pos,\n",
    "                       nodelist=[0,1,2,3,4,5,6,7],\n",
    "                       node_color='r',\n",
    "                       node_size=500,\n",
    "                   alpha=0.8)\n",
    "nx.draw_networkx_nodes(G,pos,\n",
    "                       nodelist=[4,5,6,7],\n",
    "                       node_color='b',\n",
    "                       node_size=500,\n",
    "                   alpha=0.8)\n",
    "\n",
    "# edges\n",
    "nx.draw_networkx_edges(G,pos,width=1.0,alpha=0.5)\n",
    "nx.draw_networkx_edges(G,pos,\n",
    "                       edgelist=[(0,1),(1,2),(2,3),(3,0)],\n",
    "                       width=8,alpha=0.5,edge_color='r')\n",
    "nx.draw_networkx_edges(G,pos,\n",
    "                       edgelist=[(4,5),(5,6),(6,7),(7,4)],\n",
    "                       width=8,alpha=0.5,edge_color='b')\n",
    "\n",
    "''' \n",
    "  \n",
    "#plt.figure(figsize=(20,20))\n",
    "#plt.figure(figsize=(8,8))\n",
    "#plt.axis('equal')\n",
    "nx.draw_networkx_labels(G,pos,labels,font_size=10)\n",
    "#nx.draw(G)\n",
    "#plt.axis('off')\n",
    "plt.savefig(\"graph.pdf\")\n",
    "#plt.savefig(\"labels_and_colors.png\") # save as png\n",
    "plt.show()"
   ]
  }
 ],
 "metadata": {
  "kernelspec": {
   "display_name": "Python 2",
   "language": "python",
   "name": "python2"
  },
  "language_info": {
   "codemirror_mode": {
    "name": "ipython",
    "version": 2
   },
   "file_extension": ".py",
   "mimetype": "text/x-python",
   "name": "python",
   "nbconvert_exporter": "python",
   "pygments_lexer": "ipython2",
   "version": "2.7.6"
  }
 },
 "nbformat": 4,
 "nbformat_minor": 0
}
