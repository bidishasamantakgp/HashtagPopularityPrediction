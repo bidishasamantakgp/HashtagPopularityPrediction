{
 "cells": [
  {
   "cell_type": "code",
   "execution_count": 7,
   "metadata": {
    "collapsed": false
   },
   "outputs": [],
   "source": [
    "import sys\n",
    "import pandas as pd\n",
    "import numpy as np\n",
    "import networkx as nx\n",
    "import matplotlib.pyplot as plt\n",
    "import operator\n",
    "import time\n",
    "from srm.db_manager import connect_to_db, execute_sql"
   ]
  },
  {
   "cell_type": "code",
   "execution_count": 12,
   "metadata": {
    "collapsed": false
   },
   "outputs": [],
   "source": [
    "listHashTag = ['\\\"%#flopkart%\\\"', '\\\"%#flipkartsale%\\\"', '\\\"%#snapdeal%\\\"', '\\\"%#FekuFlops%\\\"', \\\n",
    "               '\\\"%#kejrilies%\\\"', '\\\"%#AMAZON%\\\"', '\\\"%#Update%\\\"', '\\\"%#YoBilawalSoDumb%\\\"', '\\\"%#BorderBetrayal%\\\"', '\\\"%#Fraudkart%\\\"', '\\\"%#thebigbillionday%\\\"', \\\n",
    "              '\\\"%#deals%\\\"', '\\\"%#India%\\\"', '\\\"%#bigbillionsale%\\\"', '\\\"%#ecommerce%\\\"']\n",
    "listHashTagNew = ['\\\"%#Flipkart%\\\"', '\\\"%#BigBillionDay%\\\"', '\\\"%#CheckSnapdealToday%\\\"']\n",
    "adopterScoreDict = {}\n",
    "#Connect to DB\n",
    "\n",
    "\n",
    "\n",
    "patternString = '\\\"%#flipkartsale%\\\"'\n",
    "nonMatchString = '\\\"%RT @%\\\"'"
   ]
  },
  {
   "cell_type": "code",
   "execution_count": 41,
   "metadata": {
    "collapsed": false
   },
   "outputs": [
    {
     "name": "stdout",
     "output_type": "stream",
     "text": [
      "\"%#flopkart%\" [ 0  0  0  0 40 40] 1188\n",
      "\"%#flipkartsale%\" [ 0  0  0  0 36 22] 1066\n",
      "\"%#snapdeal%\" [ 0  0  0  4 65 45] 1103\n",
      "\"%#FekuFlops%\" [  0   0   0   0 140  22] 740\n",
      "\"%#kejrilies%\" [  0   0   0   0 155  13] 696\n",
      "\"%#AMAZON%\" [ 0  0  0  4 44 33] 869\n",
      "\"%#Update%\" [0 0 0 0 0 0] 66\n",
      "\"%#YoBilawalSoDumb%\" [ 0  0  0  0 23  3] 184\n",
      "\"%#BorderBetrayal%\" [ 0  0  0  0 35  2] 122\n",
      "\"%#Fraudkart%\" [ 0  0  0  0 14 24] 343\n",
      "\"%#thebigbillionday%\" [ 0  0  0  0 17 17] 503\n",
      "\"%#deals%\" [  0   0   0   0 532  12] 577\n",
      "\"%#India%\" [ 0  0  0  4 72 50] 491\n",
      "\"%#bigbillionsale%\" [ 0  0  0  1 10 18] 251\n",
      "\"%#ecommerce%\" [ 0  0  0  3 15 26] 333\n"
     ]
    }
   ],
   "source": [
    "\n",
    "# get the tweets corresponding to the hashtag\n",
    "#for hashtag in listHashTag:\n",
    "def connectionHashTag(hashtag):\n",
    "    db_name, table = \"srm\", \"BigBillionDay\"\n",
    "    cursor_mysql, conn = connect_to_db(\"10.5.23.213\", \"root\", \"root\")\n",
    "    results = execute_sql(\"select * from srm.BigBillionDay where tweetText like %s and tweetText not like %s order by created_at;\",\n",
    "                     (hashtag, nonMatchString))\n",
    "\n",
    "    length = len(results)\n",
    "    #print length\n",
    "    db_name, table = \"CrawledTweets\", \"crawled_user_info_basd\"\n",
    "    cursor_mysql, conn = connect_to_db(\"10.5.23.213\", \"root\", \"root\")\n",
    "    #get the users\n",
    "    scoreHist = []\n",
    "    initialAdopters = [row[3] for row in results]\n",
    "    for i  in range(0, int(length)):\n",
    "        adopter = initialAdopters[i]\n",
    "        #print adopter\n",
    "        #followee=execute_sql(\"select count(*) from CrawledTweets.crawled_user_info_basd where follower_list like %s;\", \"\\\"% \"+adopter+\" %\\\"\")\n",
    "        connection =[ (row[3],row[4]) for row in(execute_sql(\"select * from CrawledTweets.crawled_user_info_basd where userid=%s;\", adopter) )]\n",
    "        if len(connection) == 0:\n",
    "            continue\n",
    "        \n",
    "        followers = connection[0][0]\n",
    "        followee = connection[0][1]\n",
    "        if len(followers)==0:\n",
    "            continue\n",
    "        #score = len(followers)/(followee)\n",
    "        score = len(followers)\n",
    "        #print len(followers), followee, score\n",
    "        #print float(len(followers))/float(followee+len(followers))\n",
    "        scoreHist.append(int(score*100))\n",
    "        #print adopter, followee, followers\n",
    "        #if len(followers)==0:\n",
    "        #    score = 0\n",
    "        #else:\n",
    "        #    score = len(followers) / (len(followers) + len(followee))\n",
    "        if hashtag not in adopterScoreDict.keys():\n",
    "            adopterScoreDict[hashtag] = [(adopter,score)]\n",
    "        else: \n",
    "            adopterScoreDict[hashtag].append((adopter,score))\n",
    "    #print adopterScoreDict\n",
    "    #for key in adopterScoreDict[hashtag]:\n",
    "    bins = [0,50,100,500,1000,10000,100000]\n",
    "    bins1 = [0,10,20,30,40,50,60,70,80,90,100,1000]\n",
    "    #print scoreHist\n",
    "    inds = np.histogram(scoreHist, bins)\n",
    "    print hashtag, inds[0], length\n",
    "for hashtag in listHashTag:\n",
    "    connectionHashTag(hashtag)"
   ]
  }
 ],
 "metadata": {
  "kernelspec": {
   "display_name": "Python 2",
   "language": "python",
   "name": "python2"
  },
  "language_info": {
   "codemirror_mode": {
    "name": "ipython",
    "version": 2
   },
   "file_extension": ".py",
   "mimetype": "text/x-python",
   "name": "python",
   "nbconvert_exporter": "python",
   "pygments_lexer": "ipython2",
   "version": "2.7.6"
  }
 },
 "nbformat": 4,
 "nbformat_minor": 0
}
