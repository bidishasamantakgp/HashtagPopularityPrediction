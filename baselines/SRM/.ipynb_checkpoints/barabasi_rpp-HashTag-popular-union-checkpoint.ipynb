{
 "cells": [
  {
   "cell_type": "code",
   "execution_count": 1,
   "metadata": {
    "collapsed": false,
    "scrolled": true
   },
   "outputs": [],
   "source": [
    "#################################\n",
    "# Modified by Bidisha Samanta   #\n",
    "#################################\n",
    "import matplotlib.pyplot as plt\n",
    "import matplotlib.cm as cm\n",
    "%matplotlib inline\n",
    "import numpy as np\n",
    "from srm.db_manager import connect_to_db, execute_sql\n",
    "import time\n",
    "import math\n",
    "import operator\n",
    "from scipy.stats import norm\n",
    "from collections import defaultdict"
   ]
  },
  {
   "cell_type": "code",
   "execution_count": 2,
   "metadata": {
    "collapsed": false,
    "scrolled": true
   },
   "outputs": [],
   "source": [
    "def param_estimate(t_train, T):\n",
    "    \"\"\" For accurate calculation, use the last timestamp from t_train as T and the rest shall be passed as \n",
    "    commandline arguments to estimate parameters\n",
    "    \"\"\"\n",
    "    t_args = \"\\t\".join(str(x) for x in t_train[:-1])\n",
    "    #print command_arg\n",
    "    res = !./RPP  $T $t_args\n",
    "    #print res\n",
    "    l, mu, sigma = (float(x) for x in \"\".join(res).split('\\t'))\n",
    "    #print l, mu, sigma\n",
    "    return l, mu, sigma\n",
    "\n",
    "def predict(l, mu, sigma, T, nd, tp) :\n",
    "    m = 10 # Prior bilief. Make sure m_m in mic_model.cpp has the same value\n",
    "    f_tp = norm.cdf((math.log(tp) - mu)/sigma)\n",
    "    norm.cdf(f_tp)    \n",
    "    f_T = norm.cdf((math.log(T) - mu)/sigma)\n",
    "    norm.cdf(f_T)\n",
    "    cn = (m + nd)*math.exp((f_tp - f_T)*l) - m\n",
    "    #print \"Predicted\", int(math.ceil(cn))\n",
    "    #print cn\n",
    "    try:\n",
    "        te = int(math.ceil(cn))\n",
    "        return te\n",
    "    except:\n",
    "        #print cn\n",
    "        return -1\n",
    "    \n",
    "def mape(ta, tp):\n",
    "    \"\"\"Calculated MAPE for actual values ta and predicted values tp\n",
    "    \"\"\"\n",
    "    diff = 0\n",
    "    n = len(ta)\n",
    "    for i in range(n):\n",
    "        diff+= abs(ta[i]-tp[i])/float(ta[i])\n",
    "    return diff/n\n"
   ]
  },
  {
   "cell_type": "code",
   "execution_count": 3,
   "metadata": {
    "collapsed": false,
    "scrolled": true
   },
   "outputs": [],
   "source": [
    "db_name, table = \"srm\", \"BigBillionDay\"\n",
    "cursor_mysql, conn = connect_to_db(\"10.5.23.213\", \"root\", \"root\")"
   ]
  },
  {
   "cell_type": "markdown",
   "metadata": {},
   "source": [
    "List of tweet that got retweeted and a reply from flipkart handles"
   ]
  },
  {
   "cell_type": "code",
   "execution_count": 4,
   "metadata": {
    "collapsed": false
   },
   "outputs": [
    {
     "name": "stdout",
     "output_type": "stream",
     "text": [
      "1188\n"
     ]
    }
   ],
   "source": [
    "#results = execute_sql(\"select * from srm.abcd order by C desc limit 50;\");\n",
    "patternString = '\\\"%#flopkart%\\\"'\n",
    "nonMatchString = '\\\"%RT @%\\\"'\n",
    "results = execute_sql(\"select * from srm.BigBillionDay where tweetText like %s and tweetText not like %s;\",\n",
    "                     (patternString, nonMatchString))\n",
    "\n",
    "listParentId = []\n",
    "for row in results:\n",
    "    listParentId.append(row[0])\n",
    "print len(listParentId)"
   ]
  },
  {
   "cell_type": "markdown",
   "metadata": {},
   "source": [
    "#### We consider the tweets that got replied in two sets\n",
    "1. Tweets that got a reply from flipkart\n",
    "2. Other tweets"
   ]
  },
  {
   "cell_type": "code",
   "execution_count": 5,
   "metadata": {
    "collapsed": false,
    "scrolled": true
   },
   "outputs": [
    {
     "ename": "NameError",
     "evalue": "name 'itemgetter' is not defined",
     "output_type": "error",
     "traceback": [
      "\u001b[1;31m---------------------------------------------------------------------------\u001b[0m",
      "\u001b[1;31mNameError\u001b[0m                                 Traceback (most recent call last)",
      "\u001b[1;32m<ipython-input-5-0cf9853c0173>\u001b[0m in \u001b[0;36m<module>\u001b[1;34m()\u001b[0m\n\u001b[0;32m     22\u001b[0m     \u001b[1;31m#prediction_dict[parent_id] = t_original\u001b[0m\u001b[1;33m\u001b[0m\u001b[1;33m\u001b[0m\u001b[0m\n\u001b[0;32m     23\u001b[0m     \u001b[0moriginal\u001b[0m \u001b[1;33m=\u001b[0m \u001b[0moriginal\u001b[0m \u001b[1;33m+\u001b[0m \u001b[0mt_original\u001b[0m\u001b[1;33m\u001b[0m\u001b[0m\n\u001b[1;32m---> 24\u001b[1;33m     \u001b[0moriginal\u001b[0m \u001b[1;33m=\u001b[0m \u001b[0moriginal\u001b[0m\u001b[1;33m.\u001b[0m\u001b[0msort\u001b[0m\u001b[1;33m(\u001b[0m\u001b[0mkey\u001b[0m\u001b[1;33m=\u001b[0m\u001b[0mitemgetter\u001b[0m\u001b[1;33m(\u001b[0m\u001b[1;36m0\u001b[0m\u001b[1;33m)\u001b[0m\u001b[1;33m)\u001b[0m\u001b[1;33m\u001b[0m\u001b[0m\n\u001b[0m\u001b[0;32m     25\u001b[0m \u001b[1;33m\u001b[0m\u001b[0m\n\u001b[0;32m     26\u001b[0m \u001b[1;31m#for key in prediction_dict:\u001b[0m\u001b[1;33m\u001b[0m\u001b[1;33m\u001b[0m\u001b[0m\n",
      "\u001b[1;31mNameError\u001b[0m: name 'itemgetter' is not defined"
     ]
    }
   ],
   "source": [
    "prediction_dict = defaultdict(list)#{tweetid:(time after training, real retweet#, predicted retweet#)}\n",
    "count = 0\n",
    "original = list()\n",
    "minTimeStamp = 999999999999\n",
    "original_parent_id = listParentId[0]\n",
    "\n",
    "for parent_id in listParentId :\n",
    "    retweet_times = [row[0] for row in execute_sql(\"select created_at from srm.BigBillionDay where parent_id_str \\\n",
    "                                                            =%s order by created_at\", parent_id)]\n",
    "    #print \"retweet times\",retweet_times\n",
    "    parent_created_time = [row[0] for row in execute_sql(\"select created_at from srm.BigBillionDay where id_str \\\n",
    "                                                            =%s\", parent_id)]\n",
    "    created_times = parent_created_time #Stores time at which the tweet and retweets are created\n",
    "    created_times.extend(retweet_times)\n",
    "    t_original = list()\n",
    "    created_times[0]\n",
    "    for ts in created_times : \n",
    "        t_original.append((int(time.mktime(ts.timetuple())),ts))\n",
    "    if(len(t_original) <= 10):\n",
    "        continue\n",
    "    \n",
    "    #To avoid errors in calculation, as suggested in the paper, we add a constant 1 to the time momemnts\n",
    "    t_original = [(x+1,ts) for (x,ts) in t_original]\n",
    "    #prediction_dict[parent_id] = t_original\n",
    "    original = original + t_original\n",
    "    original = original.sort(key=operator.itemgetter(0))\n",
    "    \n",
    "#for key in prediction_dict:\n",
    "#    temp = [(val - original[0])+1 for val in prediction_dict[key]]\n",
    "#    print temp\n",
    "\n",
    "#print original\n",
    "original_0 = original[0]\n",
    "original = [((x-original[0])+1,ts) for (x,ts) in original]\n",
    "print original\n",
    "\n",
    "#print len(original)\n",
    "reply_index = int(len(original)*0.6)\n",
    "\n",
    "#t_train, t_test = original[:reply_index], original[reply_index:]\n",
    "t_train = [t for (t,ts) in original[:reply_index]]\n",
    "t_test =  original[reply_index:]\n",
    "#print t_train\n",
    "\n",
    "T = t_train[-1]\n",
    "print T\n",
    "l, mu, sigma = param_estimate(t_train, T)\n",
    "\n",
    "#print \"Training\"\n",
    "#print t_train\n",
    "print l, mu, sigma, original_parent_id\n",
    "#print t_test\n",
    "    \n",
    "#Calculation of MAPE\n",
    "nd = len(t_train[:-1])\n",
    "    \n",
    "for (tp, ts) in t_test:\n",
    "    te = predict(l, mu, sigma, T, nd, tp)\n",
    "    if te == -1 : \n",
    "        continue\n",
    "        #print \"Real\", t_original.index(tp)+1\n",
    "    if not prediction_dict.has_key(original_parent_id):\n",
    "        prediction_dict[original_parent_id] = [(ts, original.index(tp)+1, te)]\n",
    "    else :\n",
    "        prediction_dict[original_parent_id].append((ts, original.index(tp)+1, te))\n",
    "    \n",
    "print prediction_dict \n"
   ]
  },
  {
   "cell_type": "code",
   "execution_count": null,
   "metadata": {
    "collapsed": true
   },
   "outputs": [],
   "source": []
  },
  {
   "cell_type": "markdown",
   "metadata": {},
   "source": [
    "Print MAPE for each tweet ID"
   ]
  },
  {
   "cell_type": "code",
   "execution_count": 51,
   "metadata": {
    "collapsed": false
   },
   "outputs": [
    {
     "name": "stdout",
     "output_type": "stream",
     "text": [
      "518706683787223040 4.27278976521\n"
     ]
    }
   ],
   "source": [
    "mape_dict = dict()\n",
    "for tweetid in prediction_dict.keys():\n",
    "        xp = [x[1] for x in prediction_dict[tweetid]]\n",
    "        xe = [x[2] for x in prediction_dict[tweetid]]\n",
    "        mape_val = mape(xp, xe)\n",
    "        print tweetid,mape_val\n",
    "        mape_dict[tweetid] = (mape_val, len(xp))\n",
    "#print mape_dict[mape_dict.keys()[0]]"
   ]
  },
  {
   "cell_type": "markdown",
   "metadata": {},
   "source": [
    "Calculate cumulative MAPE"
   ]
  },
  {
   "cell_type": "code",
   "execution_count": 89,
   "metadata": {
    "collapsed": false
   },
   "outputs": [
    {
     "name": "stdout",
     "output_type": "stream",
     "text": [
      "\n",
      "\n",
      "Cumulative MAPE 3.90369643939\n",
      "Number of outliers 0\n"
     ]
    }
   ],
   "source": [
    "outlier_count = 0\n",
    "weighted_sum = 0\n",
    "for tweetid in mape_dict.keys():\n",
    "    if mape_dict[tweetid][0] > 5 :\n",
    "        outlier_count+=1\n",
    "        print \"Outlier found id = %s, MAPE = %f\"%(tweetid, mape_dict[tweetid][0])\n",
    "        continue\n",
    "    weighted_sum+= mape_dict[tweetid][0]*mape_dict[tweetid][1]\n",
    "print \"\\n\\nCumulative MAPE\", float(weighted_sum)/sum([x[1] for x in mape_dict.values()])\n",
    "print \"Number of outliers\", outlier_count"
   ]
  },
  {
   "cell_type": "code",
   "execution_count": 52,
   "metadata": {
    "collapsed": false
   },
   "outputs": [
    {
     "name": "stdout",
     "output_type": "stream",
     "text": [
      "307\n"
     ]
    },
    {
     "data": {
      "image/png": "[encoded data removed]",
      "text/plain": [
       "<matplotlib.figure.Figure at 0x7f0179ccd610>"
      ]
     },
     "metadata": {},
     "output_type": "display_data"
    }
   ],
   "source": [
    "colors = cm.rainbow(np.linspace(0, 1, 11))\n",
    "for tweetid,c in zip(prediction_dict.keys()[0:1], colors):\n",
    "    xp = [x[0] for x in prediction_dict[tweetid]]\n",
    "    #xe = [x[1] for x in prediction_dict[tweetid]]\n",
    "    #xe = [ abs(x[2]-x[1]) for x in prediction_dict[tweetid]]\n",
    "    xe = [ abs(x[1]-x[2])/float(x[1]) for x in prediction_dict[tweetid]]\n",
    "    #print xp\n",
    "    #print xe\n",
    "    #print prediction_dict[tweetid]\n",
    "    plt.xlabel('Actual', fontsize=11)\n",
    "    plt.ylabel('prdicted', fontsize=11)\n",
    "    plt.title(\"id=\"+tweetid, fontsize=12)\n",
    "    plt.plot(xp, xe, color=c, marker='.')\n",
    "    print len(prediction_dict[tweetid])"
   ]
  },
  {
   "cell_type": "code",
   "execution_count": 45,
   "metadata": {
    "collapsed": false
   },
   "outputs": [
    {
     "name": "stdout",
     "output_type": "stream",
     "text": [
      "<type 'str'>\n"
     ]
    }
   ],
   "source": [
    "print type(parent_tweets[0])"
   ]
  }
 ],
 "metadata": {
  "kernelspec": {
   "display_name": "Python 2",
   "language": "python",
   "name": "python2"
  },
  "language_info": {
   "codemirror_mode": {
    "name": "ipython",
    "version": 2
   },
   "file_extension": ".py",
   "mimetype": "text/x-python",
   "name": "python",
   "nbconvert_exporter": "python",
   "pygments_lexer": "ipython2",
   "version": "2.7.6"
  }
 },
 "nbformat": 4,
 "nbformat_minor": 0
}
