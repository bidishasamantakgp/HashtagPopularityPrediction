{
 "cells": [
  {
   "cell_type": "code",
   "execution_count": 350,
   "metadata": {
    "collapsed": false
   },
   "outputs": [],
   "source": [
    "import matplotlib.pyplot as plt\n",
    "%matplotlib inline\n",
    "import numpy as np\n",
    "from srm.db_manager import connect_to_db, execute_sql\n",
    "import time\n",
    "import math"
   ]
  },
  {
   "cell_type": "code",
   "execution_count": 351,
   "metadata": {
    "collapsed": true
   },
   "outputs": [],
   "source": [
    "db_name, table = \"srm\", \"BigBillionDay\""
   ]
  },
  {
   "cell_type": "markdown",
   "metadata": {},
   "source": [
    "From DB, fetch the timestamps at which the parent tweet and its retweets are created. Works for parent_id = 518299959649501184"
   ]
  },
  {
   "cell_type": "code",
   "execution_count": 352,
   "metadata": {
    "collapsed": false,
    "scrolled": true
   },
   "outputs": [
    {
     "name": "stdout",
     "output_type": "stream",
     "text": [
      "DB timestamps ['04 07:21:54', '04 07:22:10', '04 07:27:13', '04 07:31:43', '04 07:37:22', '04 07:37:28', '04 07:39:16', '04 07:40:02', '04 07:49:56', '04 07:54:34', '04 08:05:25', '04 08:23:16']\n",
      "\n",
      "12 time moments in the ground truth\n",
      "\n",
      "Time moments [1, 17, 320, 590, 929, 935, 1043, 1089, 1683, 1961, 2612, 3683]\n"
     ]
    }
   ],
   "source": [
    "cursor_mysql, conn = connect_to_db(\"localhost\", \"root\", \"root\")\n",
    "parent_id = '518299959649501184'\n",
    "retweet_times = [row[0] for row in execute_sql(\"select created_at from srm.BigBillionDay where parent_id_str \\\n",
    "=%s order by created_at\", parent_id)]\n",
    "parent_created_time = [row[0] for row in execute_sql(\"select created_at from srm.BigBillionDay where id_str \\\n",
    "=%s\", parent_id)]\n",
    "#print created_times, '\\n',parent_created_time\n",
    "created_times = parent_created_time #Stores time at which the tweet and retweets are created\n",
    "created_times.extend(retweet_times)\n",
    "#print created_times\n",
    "#print created_times[1] - created_times[0]\n",
    "t = list()\n",
    "for ts in created_times : \n",
    "    t.append(int(time.mktime(ts.timetuple())-time.mktime(created_times[0].timetuple())))\n",
    "\"\"\" \n",
    "    To avoid errors in calculation, as suggested in the paper, we add a constant 1 to the time momemnts\n",
    "\"\"\" \n",
    "t = [x+1 for x in t]\n",
    "print \"DB timestamps\", [dt.strftime(\"%d %H:%M:%S\") for dt in created_times]\n",
    "print \"\\n%d time moments in the ground truth\\n\"% len(t)\n",
    "print \"Time moments\", t"
   ]
  },
  {
   "cell_type": "markdown",
   "metadata": {},
   "source": [
    "## Model formulation\n",
    "    "
   ]
  },
  {
   "cell_type": "markdown",
   "metadata": {},
   "source": [
    "### Calculation of variable Capitol epsilon"
   ]
  },
  {
   "cell_type": "code",
   "execution_count": 353,
   "metadata": {
    "collapsed": false
   },
   "outputs": [
    {
     "name": "stdout",
     "output_type": "stream",
     "text": [
      "11-10*exp(alpha)\n"
     ]
    }
   ],
   "source": [
    "t = t[:-10]\n",
    "\n",
    "n = len(t)\n",
    "alpha, gamma = \"alpha\", \"gamma\"\n",
    "eps = 10 #Small episilon\n",
    "E = str(1+eps)+\"-%d*exp(%s)\"%(eps, alpha)\n",
    "print E"
   ]
  },
  {
   "cell_type": "markdown",
   "metadata": {},
   "source": [
    "### Calculation of X"
   ]
  },
  {
   "cell_type": "code",
   "execution_count": 354,
   "metadata": {
    "collapsed": false
   },
   "outputs": [
    {
     "name": "stdout",
     "output_type": "stream",
     "text": [
      "((17^(1-gamma)-1^(1-gamma))*(11-10*exp(alpha)-exp(-alpha*1)))/(((1-gamma)*(1-exp(-alpha))))\n"
     ]
    }
   ],
   "source": [
    "temp = \"\"\n",
    "denomenator = \"((1-%s)*(1-exp(-%s)))\"%(gamma, alpha)\n",
    "#print denomenator\n",
    "for k in xrange(1,n) :\n",
    "    numerator = \"(%d^(1-%s)-%d^(1-%s))*(%s-exp(-%s*%d))\"%(t[k],gamma, t[k-1], gamma, E, alpha, k)\n",
    "    #print numerator\n",
    "    temp = temp+\"+\"+numerator\n",
    "#print temp\n",
    "X = \"(%s)/(%s)\"%(temp[1:], denomenator)\n",
    "print X"
   ]
  },
  {
   "cell_type": "markdown",
   "metadata": {},
   "source": [
    "### Calculation of C"
   ]
  },
  {
   "cell_type": "code",
   "execution_count": 355,
   "metadata": {
    "collapsed": false
   },
   "outputs": [
    {
     "name": "stdout",
     "output_type": "stream",
     "text": [
      "2/(((17^(1-gamma)-1^(1-gamma))*(11-10*exp(alpha)-exp(-alpha*1)))/(((1-gamma)*(1-exp(-alpha)))))\n"
     ]
    }
   ],
   "source": [
    "C = \"%d/(%s)\"%(n,X)\n",
    "print C"
   ]
  },
  {
   "cell_type": "markdown",
   "metadata": {},
   "source": [
    "### Calculation of log liklihood L\n",
    "#### 1. Calculation of the middle summation term"
   ]
  },
  {
   "cell_type": "code",
   "execution_count": 356,
   "metadata": {
    "collapsed": false,
    "scrolled": true
   },
   "outputs": [
    {
     "name": "stdout",
     "output_type": "stream",
     "text": [
      "log(11-10*exp(alpha)-exp(-alpha*1))-gamma*log(17)\n"
     ]
    }
   ],
   "source": [
    "middle_term = \"\"\n",
    "#print temp\n",
    "for k in xrange(1,n):\n",
    "    #print k, temp\n",
    "    middle_term = middle_term+\"+log(%s-exp(-%s*%d))-%s*log(%d)\"%(E, alpha, k, gamma, t[k])\n",
    "print middle_term[1:]    "
   ]
  },
  {
   "cell_type": "markdown",
   "metadata": {},
   "source": [
    "#### 2. Add the two other terms in the equation to produce the final expresssion for L"
   ]
  },
  {
   "cell_type": "code",
   "execution_count": 357,
   "metadata": {
    "collapsed": false,
    "scrolled": true
   },
   "outputs": [
    {
     "name": "stdout",
     "output_type": "stream",
     "text": [
      "2*log((2/(((17^(1-gamma)-1^(1-gamma))*(11-10*exp(alpha)-exp(-alpha*1)))/(((1-gamma)*(1-exp(-alpha))))))/(1-exp(-alpha)))++log(11-10*exp(alpha)-exp(-alpha*1))-gamma*log(17)-2\n"
     ]
    }
   ],
   "source": [
    "first_term = \"%d*log((%s)/(1-exp(-%s)))\"%(n, C, alpha)\n",
    "#print first_term\n",
    "last_term = \"%s\"%n\n",
    "#print last_term\n",
    "L = \"%s+%s-%s\"%(first_term, middle_term, last_term)\n",
    "print L"
   ]
  },
  {
   "cell_type": "markdown",
   "metadata": {},
   "source": [
    "## Making the prediction\n",
    "Till now, we were trying to print the equation as a string but to make a prediction, we need to use the expressions as functions and then pass the estimated paramters from the Matlab \n",
    "`fminsearch(@(x)convexFunction(x(1), x(2)),[.01;.01])` "
   ]
  },
  {
   "cell_type": "markdown",
   "metadata": {},
   "source": [
    "#### First enter the estimated values alpha, gamma, T  (nth time in the training) and time moment t for which prediction has to be performed. "
   ]
  },
  {
   "cell_type": "code",
   "execution_count": 365,
   "metadata": {
    "collapsed": false
   },
   "outputs": [],
   "source": [
    "alpha,gamma = [-2.167002952984662*math.exp(-16),0.018241689029905] #Both obtained from Matlab\n",
    "tp = 7612 #time at which we are trying to make the prediction\n",
    "T = 2000"
   ]
  },
  {
   "cell_type": "code",
   "execution_count": 366,
   "metadata": {
    "collapsed": false
   },
   "outputs": [
    {
     "name": "stdout",
     "output_type": "stream",
     "text": [
      "1.00000243864\n"
     ]
    }
   ],
   "source": [
    "E = 1+eps-eps*math.exp(alpha)\n",
    "print E"
   ]
  },
  {
   "cell_type": "markdown",
   "metadata": {},
   "source": [
    "#### Estimating C*"
   ]
  },
  {
   "cell_type": "code",
   "execution_count": 367,
   "metadata": {
    "collapsed": false
   },
   "outputs": [
    {
     "name": "stdout",
     "output_type": "stream",
     "text": [
      "-0.0138888858374\n"
     ]
    }
   ],
   "source": [
    "X = 0\n",
    "for k in xrange(1, n):\n",
    "    X = X+ ((math.pow(t[k], 1-alpha)-math.pow(t[k-1], 1-alpha))*(E-math.exp(-alpha*k)))/((1-alpha)*(1-math.exp(-alpha)))\n",
    "c = n/X\n",
    "print c"
   ]
  },
  {
   "cell_type": "code",
   "execution_count": 368,
   "metadata": {
    "collapsed": false
   },
   "outputs": [
    {
     "name": "stdout",
     "output_type": "stream",
     "text": [
      "log term =  1.70704782687e-06\n"
     ]
    },
    {
     "ename": "OverflowError",
     "evalue": "math range error",
     "output_type": "error",
     "traceback": [
      "\u001b[1;31m---------------------------------------------------------------------------\u001b[0m",
      "\u001b[1;31mOverflowError\u001b[0m                             Traceback (most recent call last)",
      "\u001b[1;32m<ipython-input-368-66998a926af5>\u001b[0m in \u001b[0;36m<module>\u001b[1;34m()\u001b[0m\n\u001b[0;32m      6\u001b[0m \u001b[0mY\u001b[0m \u001b[1;33m=\u001b[0m \u001b[0mterm1\u001b[0m\u001b[1;33m-\u001b[0m\u001b[0mterm2\u001b[0m\u001b[1;33m-\u001b[0m\u001b[0mterm4\u001b[0m\u001b[1;33m\u001b[0m\u001b[0m\n\u001b[0;32m      7\u001b[0m \u001b[1;31m#print Y\u001b[0m\u001b[1;33m\u001b[0m\u001b[1;33m\u001b[0m\u001b[0m\n\u001b[1;32m----> 8\u001b[1;33m \u001b[0mN\u001b[0m \u001b[1;33m=\u001b[0m \u001b[1;33m(\u001b[0m\u001b[0mmath\u001b[0m\u001b[1;33m.\u001b[0m\u001b[0mlog\u001b[0m\u001b[1;33m(\u001b[0m\u001b[1;36m1\u001b[0m\u001b[1;33m+\u001b[0m\u001b[0mmath\u001b[0m\u001b[1;33m.\u001b[0m\u001b[0mexp\u001b[0m\u001b[1;33m(\u001b[0m\u001b[0mY\u001b[0m\u001b[1;33m)\u001b[0m\u001b[1;33m)\u001b[0m\u001b[1;33m-\u001b[0m\u001b[0mY\u001b[0m\u001b[1;33m-\u001b[0m\u001b[0mmath\u001b[0m\u001b[1;33m.\u001b[0m\u001b[0mlog\u001b[0m\u001b[1;33m(\u001b[0m\u001b[0mE\u001b[0m\u001b[1;33m)\u001b[0m\u001b[1;33m-\u001b[0m\u001b[0malpha\u001b[0m\u001b[1;33m)\u001b[0m\u001b[1;33m/\u001b[0m\u001b[0malpha\u001b[0m\u001b[1;33m\u001b[0m\u001b[0m\n\u001b[0m\u001b[0;32m      9\u001b[0m \u001b[1;33m\u001b[0m\u001b[0m\n\u001b[0;32m     10\u001b[0m \u001b[1;32mprint\u001b[0m \u001b[0mmath\u001b[0m\u001b[1;33m.\u001b[0m\u001b[0mceil\u001b[0m\u001b[1;33m(\u001b[0m\u001b[0mN\u001b[0m\u001b[1;33m)\u001b[0m\u001b[1;33m\u001b[0m\u001b[0m\n",
      "\u001b[1;31mOverflowError\u001b[0m: math range error"
     ]
    }
   ],
   "source": [
    "term1 = (E*c*alpha*(math.pow(T, 1-gamma)-math.pow(tp, 1-alpha)))/((1-alpha)*(1-math.exp(-alpha)))\n",
    "term2 = (n+1)*alpha\n",
    "term3 = E-math.exp(-alpha*(n+1))\n",
    "print \"log term = \", term3\n",
    "term4 = math.log(term3)\n",
    "Y = term1-term2-term4\n",
    "#print Y\n",
    "N = (math.log(1+math.exp(Y))-Y-math.log(E)-alpha)/alpha\n",
    "\n",
    "print math.ceil(N)"
   ]
  }
 ],
 "metadata": {
  "kernelspec": {
   "display_name": "Python 2",
   "language": "python",
   "name": "python2"
  },
  "language_info": {
   "codemirror_mode": {
    "name": "ipython",
    "version": 2
   },
   "file_extension": ".py",
   "mimetype": "text/x-python",
   "name": "python",
   "nbconvert_exporter": "python",
   "pygments_lexer": "ipython2",
   "version": "2.7.6"
  }
 },
 "nbformat": 4,
 "nbformat_minor": 0
}
