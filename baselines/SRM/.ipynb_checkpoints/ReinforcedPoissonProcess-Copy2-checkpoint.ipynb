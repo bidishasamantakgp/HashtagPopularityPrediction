{
 "cells": [
  {
   "cell_type": "code",
   "execution_count": 6,
   "metadata": {
    "collapsed": false
   },
   "outputs": [],
   "source": [
    "import matplotlib.pyplot as plt\n",
    "%matplotlib inline\n",
    "import numpy as np\n",
    "from srm.db_manager import connect_to_db, execute_sql\n",
    "import time\n",
    "import math"
   ]
  },
  {
   "cell_type": "code",
   "execution_count": 311,
   "metadata": {
    "collapsed": true
   },
   "outputs": [],
   "source": [
    "db_name, table = \"srm\", \"BigBillionDay\""
   ]
  },
  {
   "cell_type": "markdown",
   "metadata": {},
   "source": [
    "From DB, fetch the timestamps at which the parent tweet and its retweets are created. Works for parent_id = 518299959649501184"
   ]
  },
  {
   "cell_type": "code",
   "execution_count": 312,
   "metadata": {
    "collapsed": false,
    "scrolled": true
   },
   "outputs": [
    {
     "name": "stdout",
     "output_type": "stream",
     "text": [
      "DB timestamps ['04 08:55:46', '04 08:56:02', '04 08:56:06', '04 08:56:06', '04 08:56:21', '04 08:56:22', '04 08:57:50', '04 08:58:35', '04 08:58:40', '04 08:59:50', '04 09:00:36', '04 09:01:44', '04 09:05:31', '04 09:10:02', '04 09:15:17', '04 09:20:45', '04 09:21:51', '04 09:41:36', '04 09:53:26', '04 10:24:30', '04 10:36:52', '04 10:40:19', '04 10:53:10', '04 11:16:14', '04 11:54:04', '04 12:11:37', '04 12:24:43', '04 12:35:49', '04 14:08:19', '04 14:18:12', '04 15:08:10', '04 15:08:38', '04 15:27:36', '04 15:53:38', '04 18:21:46', '04 19:36:20', '05 02:54:14', '05 05:17:17', '05 07:13:21', '05 07:14:15', '05 08:45:25']\n",
      "\n",
      "41 time moments in the ground truth\n",
      "\n",
      "Time moments [1, 17, 21, 21, 36, 37, 125, 170, 175, 245, 291, 359, 586, 857, 1172, 1500, 1566, 2751, 3461, 5325, 6067, 6274, 7045, 8429, 10699, 11752, 12538, 13204, 18754, 19347, 22345, 22373, 23511, 25073, 33961, 38435, 64709, 73292, 80256, 80310, 85780]\n"
     ]
    }
   ],
   "source": [
    "cursor_mysql, conn = connect_to_db(\"localhost\", \"root\", \"root\")\n",
    "parent_id = '518323583622193152'\n",
    "retweet_times = [row[0] for row in execute_sql(\"select created_at from srm.BigBillionDay where parent_id_str \\\n",
    "=%s order by created_at\", parent_id)]\n",
    "parent_created_time = [row[0] for row in execute_sql(\"select created_at from srm.BigBillionDay where id_str \\\n",
    "=%s\", parent_id)]\n",
    "#print created_times, '\\n',parent_created_time\n",
    "created_times = parent_created_time #Stores time at which the tweet and retweets are created\n",
    "created_times.extend(retweet_times)\n",
    "#print created_times\n",
    "#print created_times[1] - created_times[0]\n",
    "t = list()\n",
    "for ts in created_times : \n",
    "    t.append(int(time.mktime(ts.timetuple())-time.mktime(created_times[0].timetuple())))\n",
    "\"\"\" \n",
    "    To avoid errors in calculation, as suggested in the paper, we add a constant 1 to the time momemnts\n",
    "\"\"\" \n",
    "t = [x+1 for x in t]\n",
    "print \"DB timestamps\", [dt.strftime(\"%d %H:%M:%S\") for dt in created_times]\n",
    "print \"\\n%d time moments in the ground truth\\n\"% len(t)\n",
    "print \"Time moments\", t"
   ]
  },
  {
   "cell_type": "markdown",
   "metadata": {},
   "source": [
    "## Model formulation\n",
    "    "
   ]
  },
  {
   "cell_type": "markdown",
   "metadata": {},
   "source": [
    "### Calculation of variable Capitol epsilon"
   ]
  },
  {
   "cell_type": "code",
   "execution_count": 12,
   "metadata": {
    "collapsed": false
   },
   "outputs": [
    {
     "name": "stdout",
     "output_type": "stream",
     "text": [
      "11-10*exp(alpha)\n"
     ]
    }
   ],
   "source": [
    "t = [1,4,15,34]\n",
    "\n",
    "n = len(t)\n",
    "alpha, gamma = \"alpha\", \"gamma\"\n",
    "eps = 10 #Small episilon\n",
    "E = str(1+eps)+\"-%d*exp(%s)\"%(eps, alpha)\n",
    "print E"
   ]
  },
  {
   "cell_type": "markdown",
   "metadata": {},
   "source": [
    "### Calculation of X"
   ]
  },
  {
   "cell_type": "code",
   "execution_count": 13,
   "metadata": {
    "collapsed": false
   },
   "outputs": [
    {
     "name": "stdout",
     "output_type": "stream",
     "text": [
      "((4^(1-gamma)-1^(1-gamma))*(11-10*exp(alpha)-exp(-alpha*1))+(15^(1-gamma)-4^(1-gamma))*(11-10*exp(alpha)-exp(-alpha*2))+(34^(1-gamma)-15^(1-gamma))*(11-10*exp(alpha)-exp(-alpha*3)))/(((1-gamma)*(1-exp(-alpha))))\n"
     ]
    }
   ],
   "source": [
    "temp = \"\"\n",
    "denomenator = \"((1-%s)*(1-exp(-%s)))\"%(gamma, alpha)\n",
    "#print denomenator\n",
    "for k in xrange(1,n) :\n",
    "    numerator = \"(%d^(1-%s)-%d^(1-%s))*(%s-exp(-%s*%d))\"%(t[k],gamma, t[k-1], gamma, E, alpha, k)\n",
    "    #print numerator\n",
    "    temp = temp+\"+\"+numerator\n",
    "#print temp\n",
    "X = \"(%s)/(%s)\"%(temp[1:], denomenator)\n",
    "print X"
   ]
  },
  {
   "cell_type": "markdown",
   "metadata": {},
   "source": [
    "### Calculation of C"
   ]
  },
  {
   "cell_type": "code",
   "execution_count": 14,
   "metadata": {
    "collapsed": false
   },
   "outputs": [
    {
     "name": "stdout",
     "output_type": "stream",
     "text": [
      "4/(((4^(1-gamma)-1^(1-gamma))*(11-10*exp(alpha)-exp(-alpha*1))+(15^(1-gamma)-4^(1-gamma))*(11-10*exp(alpha)-exp(-alpha*2))+(34^(1-gamma)-15^(1-gamma))*(11-10*exp(alpha)-exp(-alpha*3)))/(((1-gamma)*(1-exp(-alpha)))))\n"
     ]
    }
   ],
   "source": [
    "C = \"%d/(%s)\"%(n,X)\n",
    "print C"
   ]
  },
  {
   "cell_type": "markdown",
   "metadata": {},
   "source": [
    "### Calculation of log liklihood L\n",
    "#### 1. Calculation of the middle summation term"
   ]
  },
  {
   "cell_type": "code",
   "execution_count": 15,
   "metadata": {
    "collapsed": false,
    "scrolled": true
   },
   "outputs": [
    {
     "name": "stdout",
     "output_type": "stream",
     "text": [
      "log(11-10*exp(alpha)-exp(-alpha*1))-gamma*log(4)+log(11-10*exp(alpha)-exp(-alpha*2))-gamma*log(15)+log(11-10*exp(alpha)-exp(-alpha*3))-gamma*log(34)\n"
     ]
    }
   ],
   "source": [
    "middle_term = \"\"\n",
    "#print temp\n",
    "for k in xrange(1,n):\n",
    "    #print k, temp\n",
    "    middle_term = middle_term+\"+log(%s-exp(-%s*%d))-%s*log(%d)\"%(E, alpha, k, gamma, t[k])\n",
    "print middle_term[1:]    "
   ]
  },
  {
   "cell_type": "markdown",
   "metadata": {},
   "source": [
    "#### 2. Add the two other terms in the equation to produce the final expresssion for L"
   ]
  },
  {
   "cell_type": "code",
   "execution_count": 16,
   "metadata": {
    "collapsed": false,
    "scrolled": true
   },
   "outputs": [
    {
     "name": "stdout",
     "output_type": "stream",
     "text": [
      "4*log((4/(((4^(1-gamma)-1^(1-gamma))*(11-10*exp(alpha)-exp(-alpha*1))+(15^(1-gamma)-4^(1-gamma))*(11-10*exp(alpha)-exp(-alpha*2))+(34^(1-gamma)-15^(1-gamma))*(11-10*exp(alpha)-exp(-alpha*3)))/(((1-gamma)*(1-exp(-alpha))))))/(1-exp(-alpha)))++log(11-10*exp(alpha)-exp(-alpha*1))-gamma*log(4)+log(11-10*exp(alpha)-exp(-alpha*2))-gamma*log(15)+log(11-10*exp(alpha)-exp(-alpha*3))-gamma*log(34)--(4/(((4^(1-gamma)-1^(1-gamma))*(11-10*exp(alpha)-exp(-alpha*1))+(15^(1-gamma)-4^(1-gamma))*(11-10*exp(alpha)-exp(-alpha*2))+(34^(1-gamma)-15^(1-gamma))*(11-10*exp(alpha)-exp(-alpha*3)))/(((1-gamma)*(1-exp(-alpha))))))\n"
     ]
    }
   ],
   "source": [
    "first_term = \"%d*log((%s)/(1-exp(-%s)))\"%(n, C, alpha)\n",
    "#print first_term\n",
    "last_term = \"-(%s)\"%C\n",
    "#print last_term\n",
    "L = \"%s+%s-%s\"%(first_term, middle_term, last_term)\n",
    "print L"
   ]
  },
  {
   "cell_type": "markdown",
   "metadata": {},
   "source": [
    "## Making the prediction\n",
    "Till now, we were trying to print the equation as a string but to make a prediction, we need to use the expressions as functions and then pass the estimated paramters from the Matlab \n",
    "`fminsearch(@(x)convexFunction(x(1), x(2)),[.01;.01])` "
   ]
  },
  {
   "cell_type": "markdown",
   "metadata": {},
   "source": [
    "#### First enter the estimated values alpha, gamma, T  (nth time in the training) and time moment t for which prediction has to be performed. "
   ]
  },
  {
   "cell_type": "code",
   "execution_count": 3,
   "metadata": {
    "collapsed": false
   },
   "outputs": [],
   "source": [
    "t = [1,4,15,34]\n",
    "alpha,gamma = [44.95353044572180,264.33252292751] #Both obtained from Matlab\n",
    "tp = 62 #time at which we are trying to make the prediction\n",
    "T = 45"
   ]
  },
  {
   "cell_type": "code",
   "execution_count": 7,
   "metadata": {
    "collapsed": false
   },
   "outputs": [
    {
     "name": "stdout",
     "output_type": "stream",
     "text": [
      "-3.33480323903e+20\n"
     ]
    }
   ],
   "source": [
    "E = 1+eps-eps*math.exp(alpha)\n",
    "print E"
   ]
  },
  {
   "cell_type": "markdown",
   "metadata": {},
   "source": [
    "#### Estimating C*"
   ]
  },
  {
   "cell_type": "code",
   "execution_count": 11,
   "metadata": {
    "collapsed": false
   },
   "outputs": [
    {
     "name": "stdout",
     "output_type": "stream",
     "text": [
      "-7.58711121771e+18\n",
      "-5.27209880707e-19\n"
     ]
    }
   ],
   "source": [
    "X = 0\n",
    "for k in xrange(1, n):\n",
    "    X = X+ ((math.pow(t[k], 1-alpha)-math.pow(t[k-1], 1-alpha))*(E-math.exp(-alpha*k)))/((1-alpha)*(1-math.exp(-alpha)))\n",
    "print X\n",
    "c = n/X\n",
    "print c"
   ]
  },
  {
   "cell_type": "code",
   "execution_count": 9,
   "metadata": {
    "collapsed": false
   },
   "outputs": [
    {
     "name": "stdout",
     "output_type": "stream",
     "text": [
      "log term =  -3.33480323903e+20\n"
     ]
    },
    {
     "ename": "ValueError",
     "evalue": "math domain error",
     "output_type": "error",
     "traceback": [
      "\u001b[1;31m---------------------------------------------------------------------------\u001b[0m",
      "\u001b[1;31mValueError\u001b[0m                                Traceback (most recent call last)",
      "\u001b[1;32m<ipython-input-9-66998a926af5>\u001b[0m in \u001b[0;36m<module>\u001b[1;34m()\u001b[0m\n\u001b[0;32m      3\u001b[0m \u001b[0mterm3\u001b[0m \u001b[1;33m=\u001b[0m \u001b[0mE\u001b[0m\u001b[1;33m-\u001b[0m\u001b[0mmath\u001b[0m\u001b[1;33m.\u001b[0m\u001b[0mexp\u001b[0m\u001b[1;33m(\u001b[0m\u001b[1;33m-\u001b[0m\u001b[0malpha\u001b[0m\u001b[1;33m*\u001b[0m\u001b[1;33m(\u001b[0m\u001b[0mn\u001b[0m\u001b[1;33m+\u001b[0m\u001b[1;36m1\u001b[0m\u001b[1;33m)\u001b[0m\u001b[1;33m)\u001b[0m\u001b[1;33m\u001b[0m\u001b[0m\n\u001b[0;32m      4\u001b[0m \u001b[1;32mprint\u001b[0m \u001b[1;34m\"log term = \"\u001b[0m\u001b[1;33m,\u001b[0m \u001b[0mterm3\u001b[0m\u001b[1;33m\u001b[0m\u001b[0m\n\u001b[1;32m----> 5\u001b[1;33m \u001b[0mterm4\u001b[0m \u001b[1;33m=\u001b[0m \u001b[0mmath\u001b[0m\u001b[1;33m.\u001b[0m\u001b[0mlog\u001b[0m\u001b[1;33m(\u001b[0m\u001b[0mterm3\u001b[0m\u001b[1;33m)\u001b[0m\u001b[1;33m\u001b[0m\u001b[0m\n\u001b[0m\u001b[0;32m      6\u001b[0m \u001b[0mY\u001b[0m \u001b[1;33m=\u001b[0m \u001b[0mterm1\u001b[0m\u001b[1;33m-\u001b[0m\u001b[0mterm2\u001b[0m\u001b[1;33m-\u001b[0m\u001b[0mterm4\u001b[0m\u001b[1;33m\u001b[0m\u001b[0m\n\u001b[0;32m      7\u001b[0m \u001b[1;31m#print Y\u001b[0m\u001b[1;33m\u001b[0m\u001b[1;33m\u001b[0m\u001b[0m\n",
      "\u001b[1;31mValueError\u001b[0m: math domain error"
     ]
    }
   ],
   "source": [
    "term1 = (E*c*alpha*(math.pow(T, 1-gamma)-math.pow(tp, 1-alpha)))/((1-alpha)*(1-math.exp(-alpha)))\n",
    "term2 = (n+1)*alpha\n",
    "term3 = E-math.exp(-alpha*(n+1))\n",
    "print \"log term = \", term3\n",
    "term4 = math.log(term3)\n",
    "Y = term1-term2-term4\n",
    "#print Y\n",
    "N = (math.log(1+math.exp(Y))-Y-math.log(E)-alpha)/alpha\n",
    "\n",
    "print math.ceil(N)"
   ]
  }
 ],
 "metadata": {
  "kernelspec": {
   "display_name": "Python 2",
   "language": "python",
   "name": "python2"
  },
  "language_info": {
   "codemirror_mode": {
    "name": "ipython",
    "version": 2
   },
   "file_extension": ".py",
   "mimetype": "text/x-python",
   "name": "python",
   "nbconvert_exporter": "python",
   "pygments_lexer": "ipython2",
   "version": "2.7.6"
  }
 },
 "nbformat": 4,
 "nbformat_minor": 0
}
