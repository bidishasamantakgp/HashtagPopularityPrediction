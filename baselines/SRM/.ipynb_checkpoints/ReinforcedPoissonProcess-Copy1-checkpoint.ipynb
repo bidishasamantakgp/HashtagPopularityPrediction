{
 "cells": [
  {
   "cell_type": "code",
   "execution_count": 18,
   "metadata": {
    "collapsed": false
   },
   "outputs": [],
   "source": [
    "import matplotlib.pyplot as plt\n",
    "%matplotlib inline\n",
    "import numpy as np\n",
    "from srm.db_manager import connect_to_db, execute_sql\n",
    "import time\n",
    "import math"
   ]
  },
  {
   "cell_type": "code",
   "execution_count": 19,
   "metadata": {
    "collapsed": true
   },
   "outputs": [],
   "source": [
    "db_name, table = \"srm\", \"BigBillionDay\""
   ]
  },
  {
   "cell_type": "markdown",
   "metadata": {},
   "source": [
    "From DB, fetch the timestamps at which the parent tweet and its retweets are created. Works for parent_id = 518299959649501184"
   ]
  },
  {
   "cell_type": "code",
   "execution_count": 247,
   "metadata": {
    "collapsed": false,
    "scrolled": true
   },
   "outputs": [
    {
     "name": "stdout",
     "output_type": "stream",
     "text": [
      "Response Time\n",
      "[datetime.datetime(2014, 10, 6, 9, 51, 23)]\n",
      "24 time moments in the ground truth\n",
      "[0, 239, 342, 385, 432, 590, 669, 835, 1087, 1283, 1452, 1480, 1589, 1637, 1640, 1765, 1854, 2015, 2063, 2591, 3696, 5155, 5339, 5882]\n"
     ]
    }
   ],
   "source": [
    "cursor_mysql, conn = connect_to_db(\"localhost\", \"root\", \"root\")\n",
    "parent_id = '518960274938667009'\n",
    "retweet_times = [row[0] for row in execute_sql(\"select created_at from srm.BigBillionDay where parent_id_str \\\n",
    "=%s order by created_at\", parent_id)]\n",
    "parent_created_time = [row[0] for row in execute_sql(\"select created_at from srm.BigBillionDay where id_str \\\n",
    "=%s\", parent_id)]\n",
    "reply_by = [row[0] for row in execute_sql(\"select created_at from srm.BigBillionDay where reply_tweet_id=%s\",\n",
    "                                          parent_id)]\n",
    "print \"Response Time\"\n",
    "print reply_by\n",
    "#print created_times, '\\n',parent_created_time\n",
    "created_times = parent_created_time #Stores time at which the tweet and retweets are created\n",
    "created_times.extend(retweet_times)\n",
    "#print created_times\n",
    "#print created_times[1] - created_times[0]\n",
    "t = list()\n",
    "for ts in created_times : \n",
    "    #print ts\n",
    "    t.append(int(time.mktime(ts.timetuple())-time.mktime(created_times[0].timetuple())))\n",
    "#response_time = time.mktime(reply_by.timetuple()) - time.mktime(created_times[0].timetuple())\n",
    "print \"%d time moments in the ground truth\"% len(t)\n",
    "print t\n"
   ]
  },
  {
   "cell_type": "code",
   "execution_count": null,
   "metadata": {
    "collapsed": true
   },
   "outputs": [],
   "source": []
  },
  {
   "cell_type": "markdown",
   "metadata": {},
   "source": [
    "## Model formulation\n",
    "    "
   ]
  },
  {
   "cell_type": "markdown",
   "metadata": {},
   "source": [
    "### Calculation of variable Capitol epsilon"
   ]
  },
  {
   "cell_type": "code",
   "execution_count": 198,
   "metadata": {
    "collapsed": false
   },
   "outputs": [
    {
     "name": "stdout",
     "output_type": "stream",
     "text": [
      "11-10*exp(alpha)\n"
     ]
    }
   ],
   "source": [
    "t = [0, 239, 342, 385, 432, 590]\n",
    "n = len(t)\n",
    "alpha, gamma = \"alpha\", \"gamma\"\n",
    "eps = 10 #Small episilon\n",
    "E = str(1+eps)+\"-%d*exp(%s)\"%(eps, alpha)\n",
    "print E"
   ]
  },
  {
   "cell_type": "markdown",
   "metadata": {},
   "source": [
    "### Calculation of X"
   ]
  },
  {
   "cell_type": "code",
   "execution_count": 199,
   "metadata": {
    "collapsed": false
   },
   "outputs": [
    {
     "name": "stdout",
     "output_type": "stream",
     "text": [
      "((19^(1-gamma)-0^(1-gamma))*(11-10*exp(alpha)-exp(-alpha*1))+(47^(1-gamma)-19^(1-gamma))*(11-10*exp(alpha)-exp(-alpha*2))+(218^(1-gamma)-47^(1-gamma))*(11-10*exp(alpha)-exp(-alpha*3))+(286^(1-gamma)-218^(1-gamma))*(11-10*exp(alpha)-exp(-alpha*4)))/(((1-gamma)*(1-exp(-alpha))))\n"
     ]
    }
   ],
   "source": [
    "temp = \"\"\n",
    "denomenator = \"((1-%s)*(1-exp(-%s)))\"%(gamma, alpha)\n",
    "#print denomenator\n",
    "for k in xrange(1,n) :\n",
    "    numerator = \"(%d^(1-%s)-%d^(1-%s))*(%s-exp(-%s*%d))\"%(t[k],gamma, t[k-1], gamma, E, alpha, k)\n",
    "    #print numerator\n",
    "    temp = temp+\"+\"+numerator\n",
    "#print temp\n",
    "X = \"(%s)/(%s)\"%(temp[1:], denomenator)\n",
    "print X"
   ]
  },
  {
   "cell_type": "markdown",
   "metadata": {},
   "source": [
    "### Calculation of C"
   ]
  },
  {
   "cell_type": "code",
   "execution_count": 200,
   "metadata": {
    "collapsed": false
   },
   "outputs": [
    {
     "name": "stdout",
     "output_type": "stream",
     "text": [
      "5/(((19^(1-gamma)-0^(1-gamma))*(11-10*exp(alpha)-exp(-alpha*1))+(47^(1-gamma)-19^(1-gamma))*(11-10*exp(alpha)-exp(-alpha*2))+(218^(1-gamma)-47^(1-gamma))*(11-10*exp(alpha)-exp(-alpha*3))+(286^(1-gamma)-218^(1-gamma))*(11-10*exp(alpha)-exp(-alpha*4)))/(((1-gamma)*(1-exp(-alpha)))))\n"
     ]
    }
   ],
   "source": [
    "C = \"%d/(%s)\"%(n,X)\n",
    "print C"
   ]
  },
  {
   "cell_type": "markdown",
   "metadata": {},
   "source": [
    "### Calculation of log liklihood L\n",
    "#### 1. Calculation of the middle summation term"
   ]
  },
  {
   "cell_type": "code",
   "execution_count": 201,
   "metadata": {
    "collapsed": false
   },
   "outputs": [
    {
     "name": "stdout",
     "output_type": "stream",
     "text": [
      "log(11-10*exp(alpha)-exp(-alpha*1))-gamma*log(19)+log(11-10*exp(alpha)-exp(-alpha*2))-gamma*log(47)+log(11-10*exp(alpha)-exp(-alpha*3))-gamma*log(218)+log(11-10*exp(alpha)-exp(-alpha*4))-gamma*log(286)\n"
     ]
    }
   ],
   "source": [
    "middle_term = \"\"\n",
    "#print temp\n",
    "for k in xrange(1,n):\n",
    "    #print k, temp\n",
    "    middle_term = middle_term+\"+log(%s-exp(-%s*%d))-%s*log(%d)\"%(E, alpha, k, gamma, t[k])\n",
    "print middle_term[1:]    "
   ]
  },
  {
   "cell_type": "markdown",
   "metadata": {},
   "source": [
    "#### 2. Add the two other terms in the equation to produce the final expresssion for L"
   ]
  },
  {
   "cell_type": "code",
   "execution_count": 202,
   "metadata": {
    "collapsed": false,
    "scrolled": true
   },
   "outputs": [
    {
     "name": "stdout",
     "output_type": "stream",
     "text": [
      "5*log((5/(((19^(1-gamma)-0^(1-gamma))*(11-10*exp(alpha)-exp(-alpha*1))+(47^(1-gamma)-19^(1-gamma))*(11-10*exp(alpha)-exp(-alpha*2))+(218^(1-gamma)-47^(1-gamma))*(11-10*exp(alpha)-exp(-alpha*3))+(286^(1-gamma)-218^(1-gamma))*(11-10*exp(alpha)-exp(-alpha*4)))/(((1-gamma)*(1-exp(-alpha))))))/(1-exp(-alpha)))++log(11-10*exp(alpha)-exp(-alpha*1))-gamma*log(19)+log(11-10*exp(alpha)-exp(-alpha*2))-gamma*log(47)+log(11-10*exp(alpha)-exp(-alpha*3))-gamma*log(218)+log(11-10*exp(alpha)-exp(-alpha*4))-gamma*log(286)--(5/(((19^(1-gamma)-0^(1-gamma))*(11-10*exp(alpha)-exp(-alpha*1))+(47^(1-gamma)-19^(1-gamma))*(11-10*exp(alpha)-exp(-alpha*2))+(218^(1-gamma)-47^(1-gamma))*(11-10*exp(alpha)-exp(-alpha*3))+(286^(1-gamma)-218^(1-gamma))*(11-10*exp(alpha)-exp(-alpha*4)))/(((1-gamma)*(1-exp(-alpha))))))\n"
     ]
    }
   ],
   "source": [
    "first_term = \"%d*log((%s)/(1-exp(-%s)))\"%(n, C, alpha)\n",
    "#print first_term\n",
    "last_term = \"-(%s)\"%C\n",
    "#print last_term\n",
    "L = \"%s+%s-%s\"%(first_term, middle_term, last_term)\n",
    "print L"
   ]
  },
  {
   "cell_type": "markdown",
   "metadata": {},
   "source": [
    "## Making the prediction\n",
    "Till now, we were trying to print the equation as a string but to make a prediction, we need to use the expressions as functions and then pass the estimated paramters from the Matlab \n",
    "`fminsearch(@(x)convexFunction(x(1), x(2)),[.01;.01])` "
   ]
  },
  {
   "cell_type": "markdown",
   "metadata": {},
   "source": [
    "#### First enter the estimated values alpha, gamma, T  (nth time in the training) and time moment t for which prediction has to be performed. "
   ]
  },
  {
   "cell_type": "code",
   "execution_count": 238,
   "metadata": {
    "collapsed": false
   },
   "outputs": [],
   "source": [
    "alpha,gamma = [-2.482951992652776*math.exp(-16),0.018205328475948] #Both obtained from Matlab\n",
    "tp = 1228 #time at which we are trying to make the prediction\n",
    "T = 218"
   ]
  },
  {
   "cell_type": "code",
   "execution_count": 239,
   "metadata": {
    "collapsed": false
   },
   "outputs": [
    {
     "name": "stdout",
     "output_type": "stream",
     "text": [
      "1.00000279419\n"
     ]
    }
   ],
   "source": [
    "E = 1+eps-eps*math.exp(alpha)\n",
    "print E"
   ]
  },
  {
   "cell_type": "markdown",
   "metadata": {},
   "source": [
    "#### Estimating C*"
   ]
  },
  {
   "cell_type": "code",
   "execution_count": 240,
   "metadata": {
    "collapsed": false,
    "scrolled": true
   },
   "outputs": [
    {
     "name": "stdout",
     "output_type": "stream",
     "text": [
      "-0.00249999814569\n"
     ]
    }
   ],
   "source": [
    "X = 0\n",
    "for k in xrange(1, n):\n",
    "    X = X+ ((math.pow(t[k], 1-alpha)-math.pow(t[k-1], 1-alpha))*(E-math.exp(-alpha*k)))/((1-alpha)*(1-math.exp(-alpha)))\n",
    "c = n/X\n",
    "print c"
   ]
  },
  {
   "cell_type": "code",
   "execution_count": 241,
   "metadata": {
    "collapsed": false
   },
   "outputs": [
    {
     "name": "stdout",
     "output_type": "stream",
     "text": [
      "log term =  1.11767594979e-06\n",
      "8.69564431496\n"
     ]
    }
   ],
   "source": [
    "term1 = (E*c*alpha*(math.pow(T, 1-gamma)-math.pow(tp, 1-alpha)))/((1-alpha)*(1-math.exp(-alpha)))\n",
    "term2 = (n+1)*alpha\n",
    "term3 = E-math.exp(-alpha*(n+1))\n",
    "print \"log term = \", term3\n",
    "term4 = math.log(term3)\n",
    "Y = term1-term2-term4\n",
    "#print Y\n",
    "N = (math.log(1+math.exp(Y))-Y-math.log(E)-alpha)/alpha\n",
    "\n",
    "print N"
   ]
  }
 ],
 "metadata": {
  "kernelspec": {
   "display_name": "Python 2",
   "language": "python",
   "name": "python2"
  },
  "language_info": {
   "codemirror_mode": {
    "name": "ipython",
    "version": 2
   },
   "file_extension": ".py",
   "mimetype": "text/x-python",
   "name": "python",
   "nbconvert_exporter": "python",
   "pygments_lexer": "ipython2",
   "version": "2.7.6"
  }
 },
 "nbformat": 4,
 "nbformat_minor": 0
}
